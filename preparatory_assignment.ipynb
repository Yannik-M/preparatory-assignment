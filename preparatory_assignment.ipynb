{
 "cells": [
  {
   "cell_type": "code",
   "execution_count": 1,
   "id": "69398837",
   "metadata": {},
   "outputs": [],
   "source": [
    "from check_environment import check_packages"
   ]
  },
  {
   "cell_type": "code",
   "execution_count": 4,
   "id": "6bb90afb",
   "metadata": {},
   "outputs": [
    {
     "name": "stdout",
     "output_type": "stream",
     "text": [
      "66\n"
     ]
    }
   ],
   "source": [
    "def sum_list(input_list):\n",
    "    numbers_sum = sum(input_list)\n",
    "    print(numbers_sum)\n",
    "list = [1,2,3,4,5,6,7,8,9,10,11]\n",
    "sum_list(list)"
   ]
  },
  {
   "cell_type": "code",
   "execution_count": null,
   "id": "8c0a2da4",
   "metadata": {},
   "outputs": [],
   "source": []
  }
 ],
 "metadata": {
  "kernelspec": {
   "display_name": "Python 3",
   "language": "python",
   "name": "python3"
  },
  "language_info": {
   "codemirror_mode": {
    "name": "ipython",
    "version": 3
   },
   "file_extension": ".py",
   "mimetype": "text/x-python",
   "name": "python",
   "nbconvert_exporter": "python",
   "pygments_lexer": "ipython3",
   "version": "3.7.10"
  }
 },
 "nbformat": 4,
 "nbformat_minor": 5
}
